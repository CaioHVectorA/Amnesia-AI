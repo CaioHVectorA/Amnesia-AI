{
 "cells": [
  {
   "cell_type": "code",
   "execution_count": 33,
   "metadata": {},
   "outputs": [],
   "source": [
    "# Read credentials from a file\n",
    "import json\n",
    "credentials = json.loads(open(\"credentials.json\",'r').read())"
   ]
  },
  {
   "cell_type": "code",
   "execution_count": 111,
   "metadata": {},
   "outputs": [],
   "source": [
    "# Open browser to engine the application\n",
    "from selenium import webdriver\n",
    "from selenium.webdriver.common.keys import Keys\n",
    "from selenium.webdriver.common.by import By\n",
    "from selenium.webdriver.chrome.options import Options\n",
    "chrome_options = Options()\n",
    "# chrome_options.add_argument(\"--headless\")\n",
    "chrome_options.add_argument(\"--disable-gpu\")\n",
    "chrome_options.add_argument(\"--mute-audio\")\n",
    "\n",
    "driver = webdriver.Chrome(options=chrome_options)"
   ]
  },
  {
   "cell_type": "code",
   "execution_count": 72,
   "metadata": {},
   "outputs": [],
   "source": [
    "# Adjust screen size\n",
    "driver.set_window_size(1920, 1080)"
   ]
  },
  {
   "cell_type": "code",
   "execution_count": 76,
   "metadata": {},
   "outputs": [],
   "source": [
    "# Printscreen definition\n",
    "\n",
    "import time\n",
    "import os\n",
    "\n",
    "def printScreen(nameOfFile = str(time.time())):\n",
    "    date = time.strftime(\"%d-%m\")\n",
    "    screenshot_dir = \"./screenshot/\" + date + \"/\"\n",
    "    if not os.path.exists(screenshot_dir):\n",
    "        os.makedirs(screenshot_dir)\n",
    "    nameOfFile = screenshot_dir + nameOfFile + \".png\"\n",
    "    driver.save_screenshot(nameOfFile)"
   ]
  },
  {
   "cell_type": "code",
   "execution_count": 74,
   "metadata": {},
   "outputs": [],
   "source": [
    "# -- Telemetry -- Print Screen\n",
    "# printScreen(str(time.time()))\n",
    "printScreen(\"Screenshot-taken\")"
   ]
  },
  {
   "cell_type": "code",
   "execution_count": 112,
   "metadata": {},
   "outputs": [],
   "source": [
    "# Login\n",
    "driver.delete_all_cookies() # Idenpotent garantee\n",
    "driver.get('https://play.pokemonshowdown.com')\n",
    "time.sleep(1.5)\n",
    "login_button = driver.find_element(By.NAME, 'login')\n",
    "login_button.click()\n",
    "driver.find_element(By.NAME,\"username\").send_keys(credentials['user'])\n",
    "driver.find_element(By.CSS_SELECTOR,'[type=submit]').click()\n",
    "time.sleep(0.5)\n",
    "driver.find_element(By.NAME,\"password\").send_keys(credentials['password'])\n",
    "driver.find_element(By.CSS_SELECTOR,'[type=submit]').click()\n",
    "time.sleep(1)\n",
    "printScreen()"
   ]
  },
  {
   "cell_type": "code",
   "execution_count": 43,
   "metadata": {},
   "outputs": [
    {
     "name": "stdout",
     "output_type": "stream",
     "text": [
      "<selenium.webdriver.remote.webelement.WebElement (session=\"6772382333d83c58f964023c5e7d5889\", element=\"f.944F1CCC6291189293446BE8DF33ADEA.d.C370CE5C5FF4F5463DAA8E11B5627BE5.e.64\")>\n"
     ]
    }
   ],
   "source": [
    "# Accept the challenge\n",
    "name = \"acceptChallenge\"\n",
    "time.sleep(0.5)\n",
    "button = driver.find_element(By.NAME, name)\n",
    "if not button:\n",
    "    print(\"No challenge available!\")\n",
    "    raise Exception(\"No challenge available!\")\n",
    "print(button)\n",
    "button.click()\n",
    "time.sleep(1.4)\n",
    "printScreen()"
   ]
  },
  {
   "cell_type": "markdown",
   "metadata": {},
   "source": [
    "### Functions to Read Battle Data\n",
    "The functions are:\n",
    "- `getAdversaryPokes`: Get the adversary's pokemons available(not hidden) in the battle.\n",
    "- `getMoves`: Get the available moves for your pokemon active in the battle.\n",
    "- `ChooseMove`: Choose a move to use in the battle."
   ]
  },
  {
   "cell_type": "code",
   "execution_count": 127,
   "metadata": {},
   "outputs": [],
   "source": [
    "pokemonData = json.loads(open(\"./data/dex.json\",'r', encoding='utf8').read())\n",
    "def getPokeDataByName(name: str):\n",
    "    pokeFound = pokemonData.get(name)\n",
    "    if not pokeFound:\n",
    "        return None\n",
    "    print(pokeFound.get('types'))\n",
    "    type1 = str(pokeFound['types'][0]),\n",
    "    type2 = str(pokeFound['types'][1]) if len(pokeFound['types']) > 1 else None,\n",
    "    return {\n",
    "        'name': name,\n",
    "        'type1': type1,\n",
    "        'type2': type2\n",
    "    }"
   ]
  },
  {
   "cell_type": "code",
   "execution_count": 119,
   "metadata": {},
   "outputs": [],
   "source": [
    "# Get the adversary pokes\n",
    "from selenium.webdriver.common.action_chains import ActionChains\n",
    "def getAdversaryPokes():\n",
    "    enemyPokesSelector = '.trainer-far .teamicons .picon'\n",
    "    enemyPokes = driver.find_elements(By.CSS_SELECTOR, enemyPokesSelector)\n",
    "    pokeDataToReturn = []\n",
    "    for poke in list(enemyPokes):\n",
    "        ActionChains(driver).move_to_element(poke).perform()\n",
    "        time.sleep(0.5)\n",
    "        innerHTML = driver.find_elements(By.CSS_SELECTOR, '#tooltipwrapper')[0].get_attribute('innerHTML')\n",
    "        if (\"HP\" not in innerHTML): continue\n",
    "        pokeHP = driver.find_elements(By.CSS_SELECTOR, '#tooltipwrapper')[0].get_attribute('innerHTML').split('HP:</small> ')[1].split(\"%\")[0]\n",
    "        pokeName = poke.get_attribute(\"aria-label\").split(\"(\")[0].strip() if poke.get_attribute(\"aria-label\").__contains__(\"(\") else poke.get_attribute(\"aria-label\").strip()\n",
    "        if (pokeName == \"Not revealed\"): continue\n",
    "        pokeFound = getPokeDataByName(pokeName.replace(\" \",\"\").lower())\n",
    "        if (not pokeFound): \n",
    "            print(\"Pokemon not found: \" + pokeName)\n",
    "            continue\n",
    "        barName = driver.find_element(By.CSS_SELECTOR, '[aria-label=\"Active Pokemon\"] .statbar.lstatbar').get_attribute('innerHTML').split('strong>')[1].split('<')[0]\n",
    "        # print(barName, pokeName)\n",
    "        data = {\n",
    "            'name': pokeName,\n",
    "            'HP': int(pokeHP) if 'fainted' not in pokeHP else 0,\n",
    "            'isActive': pokeName.strip() == barName.strip(),\n",
    "            'type1': pokeFound['type1'],\n",
    "            'type2': pokeFound['type2'],\n",
    "        }\n",
    "        pokeDataToReturn.append(data)\n",
    "    return pokeDataToReturn\n"
   ]
  },
  {
   "cell_type": "code",
   "execution_count": 106,
   "metadata": {},
   "outputs": [],
   "source": [
    "# Get the available moves\n",
    "moveData = json.loads(open(\"./data/moves.json\",'r').read())\n",
    "def separateMove(move: str):\n",
    "    # Tera Blast Normal 16/16\n",
    "    # And convert to type, name, pp, allPP -> Normal, Tera Blast, 16, 16\n",
    "    splited = move.split(' ')\n",
    "    ppStr = splited[-1]\n",
    "    pp = ppStr.split('/')[0]\n",
    "    allPP = ppStr.split('/')[1]\n",
    "    name = \" \".join(splited[0:len(splited)-2])\n",
    "    type = splited[len(splited)-2]\n",
    "    return type, name, pp, allPP\n",
    "def getMoves():\n",
    "    movesDataToReturn = []\n",
    "    moves = driver.find_elements(By.CSS_SELECTOR, '[name=\"chooseMove\"]')\n",
    "    index = 1\n",
    "    for move in list(moves):\n",
    "        normalized = move.get_attribute('innerText').replace('\\n', ' ').replace('  ', ' ').strip()\n",
    "        move = normalized\n",
    "        # data = move.replace('\\n', ' ').replace('  ', ' ').strip().split()\n",
    "        # moveType = data[len(data)-2]\n",
    "        # moveName = \" \".join(data[0:len(data)-2])\n",
    "        # movePP = data[-1]\n",
    "        moveType, moveName, movePP, allPP = separateMove(normalized)\n",
    "        moveFound = moveData[moveName.replace(\" \",\"\").lower()] if moveName.replace(\" \",\"\").lower() in moveData else {}\n",
    "        data = {\n",
    "            'type': moveType,\n",
    "            'name': moveName,\n",
    "            'pp': movePP,\n",
    "            'allPP': allPP,\n",
    "            # 'pp': movePP.split('/')[0],\n",
    "            # 'allPP': movePP.split('/')[1],\n",
    "            'power': moveFound['basePower'] if 'basePower' in moveFound else 0,\n",
    "            'accuracy': moveFound['accuracy'] if 'accuracy' in moveFound else 100,\n",
    "            'index': index\n",
    "        }\n",
    "        index += 1\n",
    "        movesDataToReturn.append(data)\n",
    "    return movesDataToReturn"
   ]
  },
  {
   "cell_type": "code",
   "execution_count": null,
   "metadata": {},
   "outputs": [],
   "source": [
    "# Choose random move\n",
    "import random\n",
    "def chooseRandomMove():\n",
    "    moves = driver.find_elements(By.CSS_SELECTOR, '[name=\"chooseMove\"]')\n",
    "    if len(moves) == 0:\n",
    "        print(\"No moves available!\")\n",
    "        return\n",
    "        # raise Exception(\"No moves available!\")\n",
    "    move = moves[random.randint(0, len(moves)-1)]\n",
    "    move.click()\n",
    "    time.sleep(0.5)"
   ]
  },
  {
   "cell_type": "code",
   "execution_count": 120,
   "metadata": {},
   "outputs": [],
   "source": [
    "# Get available switches\n",
    "def getSwitches():\n",
    "    switchesDataToReturn = []\n",
    "    switches = driver.find_elements(By.CSS_SELECTOR, '[name=\"chooseSwitch\"]')\n",
    "    index = 1\n",
    "    for switch in list(switches):\n",
    "        switchName = switch.get_attribute('innerText').replace('\\n', ' ').replace('  ', ' ').strip()\n",
    "        pokeFound = getPokeDataByName(switchName.replace(\" \",\"\").lower())\n",
    "        if (not pokeFound): \n",
    "            print(\"Pokemon not found: \" + switchName)\n",
    "            switchesDataToReturn.append({ 'name': switchName, 'index': index })\n",
    "            index += 1\n",
    "            continue\n",
    "        data = {\n",
    "            'name': switchName,\n",
    "            'index': index,\n",
    "            'type1': pokeFound['type1'],\n",
    "            'type2': pokeFound['type2'],\n",
    "        }\n",
    "        index += 1\n",
    "        switchesDataToReturn.append(data)\n",
    "    return switchesDataToReturn"
   ]
  },
  {
   "cell_type": "code",
   "execution_count": 113,
   "metadata": {},
   "outputs": [],
   "source": [
    "# Choose random switch\n",
    "def chooseRandomSwitch():\n",
    "    switches = driver.find_elements(By.CSS_SELECTOR, '[name=\"chooseSwitch\"]')\n",
    "    if len(switches) == 0:\n",
    "        print(\"No switches available!\")\n",
    "        return\n",
    "        # raise Exception(\"No switches available!\")\n",
    "    switch = switches[random.randint(0, len(switches)-1)]\n",
    "    switch.click()\n",
    "    time.sleep(0.5)"
   ]
  },
  {
   "cell_type": "code",
   "execution_count": 141,
   "metadata": {},
   "outputs": [],
   "source": [
    "# Check if can do a move\n",
    "def canDoAMove():\n",
    "    return driver.find_elements(By.CSS_SELECTOR, '[name=\"chooseMove\"]').__len__() > 0\n"
   ]
  },
  {
   "cell_type": "code",
   "execution_count": 142,
   "metadata": {},
   "outputs": [],
   "source": [
    "# Check if can do a switch\n",
    "def canBeSwitch():\n",
    "    return driver.find_elements(By.CSS_SELECTOR, '[name=\"chooseSwitch\"]').__len__() > 0"
   ]
  },
  {
   "cell_type": "code",
   "execution_count": 146,
   "metadata": {},
   "outputs": [],
   "source": [
    "# Await for the adversary play\n",
    "def awaitAdversaryPlay():\n",
    "    while not canDoAMove() and not canBeSwitch():\n",
    "        return\n",
    "    print('Waiting...')\n",
    "    time.sleep(1.5)"
   ]
  },
  {
   "cell_type": "code",
   "execution_count": 147,
   "metadata": {},
   "outputs": [],
   "source": [
    "# RandomPlay\n",
    "def randomPlay():\n",
    "    if (not canDoAMove() and not canBeSwitch()):\n",
    "        awaitAdversaryPlay()\n",
    "        return randomPlay()\n",
    "    if canDoAMove() and not canBeSwitch():\n",
    "        chooseRandomMove()\n",
    "    elif not canDoAMove() and canBeSwitch():\n",
    "        chooseRandomSwitch()\n",
    "    else:\n",
    "        if random.randint(0,1) == 0:\n",
    "            chooseRandomMove()\n",
    "        else:\n",
    "            chooseRandomSwitch()"
   ]
  },
  {
   "cell_type": "code",
   "execution_count": null,
   "metadata": {},
   "outputs": [],
   "source": [
    "# moves = getMoves()\n",
    "# enemyPokes = getAdversaryPokes()\n",
    "chooseRandomSwitch()\n",
    "\n",
    "\n",
    "# Simulate a battle\n",
    "while True:\n",
    "    randomPlay()"
   ]
  }
 ],
 "metadata": {
  "kernelspec": {
   "display_name": "Python 3",
   "language": "python",
   "name": "python3"
  },
  "language_info": {
   "codemirror_mode": {
    "name": "ipython",
    "version": 3
   },
   "file_extension": ".py",
   "mimetype": "text/x-python",
   "name": "python",
   "nbconvert_exporter": "python",
   "pygments_lexer": "ipython3",
   "version": "3.12.6"
  }
 },
 "nbformat": 4,
 "nbformat_minor": 2
}
